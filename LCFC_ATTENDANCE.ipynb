{
 "cells": [
  {
   "cell_type": "markdown",
   "metadata": {},
   "source": [
    "# Introduction"
   ]
  },
  {
   "cell_type": "markdown",
   "metadata": {},
   "source": [
    "Since its inaugural season in 2015, the Louisville City Football Club (LCFC) has consistently been in the Top 3 in average attendance in the United Soccer League (USL).  LCFC has maintained a winning record for its first three full seasons. Also, they advanced to the Eastern Conference Final for all three seasons, winning the USL Cup in 2017.\n"
   ]
  },
  {
   "cell_type": "markdown",
   "metadata": {},
   "source": [
    "My Question: Does Louisville City’s performance affect immediate attendance? To find out, I pulled the 2017 and 2018 (up to June 16th) attendance and match results from USL’s website to determine this. I looked at both their win percentage  and their non-losses (wins and draws) percentage to see if there is any correlation?\n",
    "\n",
    "I start by importing SQLite, Pandas, and matplotlib libraries.\n"
   ]
  },
  {
   "cell_type": "code",
   "execution_count": 9,
   "metadata": {},
   "outputs": [],
   "source": [
    "import sqlite3\n",
    "import pandas as pd\n",
    "import matplotlib.pyplot as plt"
   ]
  },
  {
   "cell_type": "markdown",
   "metadata": {},
   "source": [
    "# Sorting the Data"
   ]
  },
  {
   "cell_type": "markdown",
   "metadata": {},
   "source": [
    "I started with an Excel table of game data that I converted to .csv. Below is a display of the data that, using SQLite."
   ]
  },
  {
   "cell_type": "code",
   "execution_count": 10,
   "metadata": {},
   "outputs": [
    {
     "data": {
      "text/html": [
       "<div>\n",
       "<style scoped>\n",
       "    .dataframe tbody tr th:only-of-type {\n",
       "        vertical-align: middle;\n",
       "    }\n",
       "\n",
       "    .dataframe tbody tr th {\n",
       "        vertical-align: top;\n",
       "    }\n",
       "\n",
       "    .dataframe thead th {\n",
       "        text-align: right;\n",
       "    }\n",
       "</style>\n",
       "<table border=\"1\" class=\"dataframe\">\n",
       "  <thead>\n",
       "    <tr style=\"text-align: right;\">\n",
       "      <th></th>\n",
       "      <th>Date</th>\n",
       "      <th>Venue</th>\n",
       "      <th>Attendance</th>\n",
       "      <th>LCFCGoals</th>\n",
       "      <th>OpponentGoals</th>\n",
       "      <th>Opponent</th>\n",
       "      <th>Win</th>\n",
       "      <th>Draw</th>\n",
       "      <th>Loss</th>\n",
       "      <th>WIN_PRCT</th>\n",
       "      <th>NONLOSS_PRCT</th>\n",
       "    </tr>\n",
       "  </thead>\n",
       "  <tbody>\n",
       "    <tr>\n",
       "      <th>0</th>\n",
       "      <td>2017-03-25</td>\n",
       "      <td>Slugger Field</td>\n",
       "      <td>6758</td>\n",
       "      <td>0</td>\n",
       "      <td>0</td>\n",
       "      <td>St. Louis FC</td>\n",
       "      <td>19</td>\n",
       "      <td>9</td>\n",
       "      <td>5</td>\n",
       "      <td>57.575758</td>\n",
       "      <td>84.848485</td>\n",
       "    </tr>\n",
       "    <tr>\n",
       "      <th>1</th>\n",
       "      <td>2017-03-30</td>\n",
       "      <td>Orlando City Stadium</td>\n",
       "      <td>2741</td>\n",
       "      <td>3</td>\n",
       "      <td>1</td>\n",
       "      <td>Orlando City B</td>\n",
       "      <td>0</td>\n",
       "      <td>1</td>\n",
       "      <td>0</td>\n",
       "      <td>0.000000</td>\n",
       "      <td>100.000000</td>\n",
       "    </tr>\n",
       "    <tr>\n",
       "      <th>2</th>\n",
       "      <td>2017-04-08</td>\n",
       "      <td>City Stadium</td>\n",
       "      <td>7603</td>\n",
       "      <td>1</td>\n",
       "      <td>0</td>\n",
       "      <td>Richmond Kickers</td>\n",
       "      <td>1</td>\n",
       "      <td>1</td>\n",
       "      <td>0</td>\n",
       "      <td>50.000000</td>\n",
       "      <td>100.000000</td>\n",
       "    </tr>\n",
       "    <tr>\n",
       "      <th>3</th>\n",
       "      <td>2017-04-15</td>\n",
       "      <td>Slugger Field</td>\n",
       "      <td>9074</td>\n",
       "      <td>2</td>\n",
       "      <td>1</td>\n",
       "      <td>Tampa Bay Rowdies</td>\n",
       "      <td>2</td>\n",
       "      <td>1</td>\n",
       "      <td>0</td>\n",
       "      <td>66.666667</td>\n",
       "      <td>100.000000</td>\n",
       "    </tr>\n",
       "    <tr>\n",
       "      <th>4</th>\n",
       "      <td>2017-04-22</td>\n",
       "      <td>Nippert Stadium</td>\n",
       "      <td>20437</td>\n",
       "      <td>1</td>\n",
       "      <td>1</td>\n",
       "      <td>FC Cincinnati</td>\n",
       "      <td>3</td>\n",
       "      <td>1</td>\n",
       "      <td>0</td>\n",
       "      <td>75.000000</td>\n",
       "      <td>100.000000</td>\n",
       "    </tr>\n",
       "  </tbody>\n",
       "</table>\n",
       "</div>"
      ],
      "text/plain": [
       "         Date                 Venue  Attendance  LCFCGoals  OpponentGoals  \\\n",
       "0  2017-03-25         Slugger Field        6758          0              0   \n",
       "1  2017-03-30  Orlando City Stadium        2741          3              1   \n",
       "2  2017-04-08          City Stadium        7603          1              0   \n",
       "3  2017-04-15         Slugger Field        9074          2              1   \n",
       "4  2017-04-22       Nippert Stadium       20437          1              1   \n",
       "\n",
       "            Opponent  Win  Draw  Loss   WIN_PRCT  NONLOSS_PRCT  \n",
       "0       St. Louis FC   19     9     5  57.575758     84.848485  \n",
       "1     Orlando City B    0     1     0   0.000000    100.000000  \n",
       "2   Richmond Kickers    1     1     0  50.000000    100.000000  \n",
       "3  Tampa Bay Rowdies    2     1     0  66.666667    100.000000  \n",
       "4      FC Cincinnati    3     1     0  75.000000    100.000000  "
      ]
     },
     "execution_count": 10,
     "metadata": {},
     "output_type": "execute_result"
    }
   ],
   "source": [
    "attendance_df = pd.read_csv('./csv/LCFC_Game_Data_SQL_modified.csv')\n",
    "attendance_df.head()"
   ]
  },
  {
   "cell_type": "markdown",
   "metadata": {},
   "source": [
    "## Win Percentage"
   ]
  },
  {
   "cell_type": "markdown",
   "metadata": {},
   "source": [
    "I used Jupyter notebook to connect to my SQL database, then created a table comprised of attendance figures and cumulative win percentage, filtering only LCFC's home games. With this table I was able to create a scatterplot graph.\n"
   ]
  },
  {
   "cell_type": "code",
   "execution_count": 11,
   "metadata": {},
   "outputs": [
    {
     "data": {
      "text/html": [
       "<div>\n",
       "<style scoped>\n",
       "    .dataframe tbody tr th:only-of-type {\n",
       "        vertical-align: middle;\n",
       "    }\n",
       "\n",
       "    .dataframe tbody tr th {\n",
       "        vertical-align: top;\n",
       "    }\n",
       "\n",
       "    .dataframe thead th {\n",
       "        text-align: right;\n",
       "    }\n",
       "</style>\n",
       "<table border=\"1\" class=\"dataframe\">\n",
       "  <thead>\n",
       "    <tr style=\"text-align: right;\">\n",
       "      <th></th>\n",
       "      <th>Attendance</th>\n",
       "      <th>WIN_PRCT</th>\n",
       "    </tr>\n",
       "  </thead>\n",
       "  <tbody>\n",
       "    <tr>\n",
       "      <th>0</th>\n",
       "      <td>6758</td>\n",
       "      <td>57.575758</td>\n",
       "    </tr>\n",
       "    <tr>\n",
       "      <th>1</th>\n",
       "      <td>9074</td>\n",
       "      <td>66.666667</td>\n",
       "    </tr>\n",
       "    <tr>\n",
       "      <th>2</th>\n",
       "      <td>8282</td>\n",
       "      <td>60.000000</td>\n",
       "    </tr>\n",
       "    <tr>\n",
       "      <th>3</th>\n",
       "      <td>7403</td>\n",
       "      <td>44.444444</td>\n",
       "    </tr>\n",
       "    <tr>\n",
       "      <th>4</th>\n",
       "      <td>8741</td>\n",
       "      <td>54.545455</td>\n",
       "    </tr>\n",
       "  </tbody>\n",
       "</table>\n",
       "</div>"
      ],
      "text/plain": [
       "   Attendance   WIN_PRCT\n",
       "0        6758  57.575758\n",
       "1        9074  66.666667\n",
       "2        8282  60.000000\n",
       "3        7403  44.444444\n",
       "4        8741  54.545455"
      ]
     },
     "execution_count": 11,
     "metadata": {},
     "output_type": "execute_result"
    }
   ],
   "source": [
    "con = sqlite3.connect(\"LCFC_Attend_DB.db\")\n",
    "attendance_by_win_df = pd.read_sql_query(\"\"\"SELECT Attendance, WIN_PRCT FROM LCFC_Game_Data\n",
    "                            WHERE Venue = 'Slugger Field'\"\"\", con)\n",
    "attendance_by_win_df.head()"
   ]
  },
  {
   "cell_type": "code",
   "execution_count": 12,
   "metadata": {},
   "outputs": [
    {
     "data": {
      "image/png": "[encoded data removed]",
      "text/plain": [
       "<matplotlib.figure.Figure at 0x1091cdba8>"
      ]
     },
     "metadata": {},
     "output_type": "display_data"
    }
   ],
   "source": [
    "attendance_by_win_df.plot.scatter(x=\"WIN_PRCT\", y=\"Attendance\")\n",
    "plt.savefig('Attend_by_wins.png')"
   ]
  },
  {
   "cell_type": "markdown",
   "metadata": {},
   "source": [
    "## Non-loss percentage"
   ]
  },
  {
   "cell_type": "markdown",
   "metadata": {},
   "source": [
    "In this step, I created a similar table as before. This time, the cumulative percentage includes draws in the regular season. Once again, I created a scatterplot using only data from home games."
   ]
  },
  {
   "cell_type": "code",
   "execution_count": 13,
   "metadata": {
    "scrolled": true
   },
   "outputs": [
    {
     "data": {
      "text/html": [
       "<div>\n",
       "<style scoped>\n",
       "    .dataframe tbody tr th:only-of-type {\n",
       "        vertical-align: middle;\n",
       "    }\n",
       "\n",
       "    .dataframe tbody tr th {\n",
       "        vertical-align: top;\n",
       "    }\n",
       "\n",
       "    .dataframe thead th {\n",
       "        text-align: right;\n",
       "    }\n",
       "</style>\n",
       "<table border=\"1\" class=\"dataframe\">\n",
       "  <thead>\n",
       "    <tr style=\"text-align: right;\">\n",
       "      <th></th>\n",
       "      <th>Attendance</th>\n",
       "      <th>NONLOSS_PRCT</th>\n",
       "    </tr>\n",
       "  </thead>\n",
       "  <tbody>\n",
       "    <tr>\n",
       "      <th>0</th>\n",
       "      <td>6758</td>\n",
       "      <td>84.848485</td>\n",
       "    </tr>\n",
       "    <tr>\n",
       "      <th>1</th>\n",
       "      <td>9074</td>\n",
       "      <td>100.000000</td>\n",
       "    </tr>\n",
       "    <tr>\n",
       "      <th>2</th>\n",
       "      <td>8282</td>\n",
       "      <td>100.000000</td>\n",
       "    </tr>\n",
       "    <tr>\n",
       "      <th>3</th>\n",
       "      <td>7403</td>\n",
       "      <td>77.777778</td>\n",
       "    </tr>\n",
       "    <tr>\n",
       "      <th>4</th>\n",
       "      <td>8741</td>\n",
       "      <td>81.818182</td>\n",
       "    </tr>\n",
       "  </tbody>\n",
       "</table>\n",
       "</div>"
      ],
      "text/plain": [
       "   Attendance  NONLOSS_PRCT\n",
       "0        6758     84.848485\n",
       "1        9074    100.000000\n",
       "2        8282    100.000000\n",
       "3        7403     77.777778\n",
       "4        8741     81.818182"
      ]
     },
     "execution_count": 13,
     "metadata": {},
     "output_type": "execute_result"
    }
   ],
   "source": [
    "con = sqlite3.connect(\"LCFC_Attend_DB.db\")\n",
    "attendance_by_nonloss_df = pd.read_sql_query(\"\"\"SELECT Attendance, NONLOSS_PRCT FROM LCFC_Game_Data \n",
    "                            WHERE Venue = 'Slugger Field'\"\"\", con)\n",
    "attendance_by_nonloss_df.head()"
   ]
  },
  {
   "cell_type": "code",
   "execution_count": 14,
   "metadata": {},
   "outputs": [
    {
     "data": {
      "image/png": "[encoded data removed]",
      "text/plain": [
       "<matplotlib.figure.Figure at 0x1091efcc0>"
      ]
     },
     "metadata": {},
     "output_type": "display_data"
    }
   ],
   "source": [
    "attendance_by_nonloss_df.plot.scatter(x=\"NONLOSS_PRCT\", y=\"Attendance\")\n",
    "plt.savefig('Attend_by_nonlosses.png')"
   ]
  },
  {
   "cell_type": "markdown",
   "metadata": {},
   "source": [
    "## Conclusion"
   ]
  },
  {
   "cell_type": "markdown",
   "metadata": {},
   "source": [
    "With the exception of some undefeated streaks at the beginning of seasons, the percentages usually hang in the 55 – 75% range, While attendance fluctuates between 6,000 to 9,000. The results do not seem to correlate to past performance. The high attendance outliers are the USL Championship game and rivalry games with FC Cincinnati (the increase is attributed to hype of the rivalry and travelling FCC supporters). Also there are a couple of outliers at 100% win rate but the attendance is at the low end of the graph. These games were played at the beginning of the season when the weather was colder.  High profile games, local rivalries and weather appear to be more of impact to attendance rather than the team’s performance. Also, weekend games versus weekday games were another factor that was not seen in these graphs\n"
   ]
  }
 ],
 "metadata": {
  "kernelspec": {
   "display_name": "Python 3",
   "language": "python",
   "name": "python3"
  },
  "language_info": {
   "codemirror_mode": {
    "name": "ipython",
    "version": 3
   },
   "file_extension": ".py",
   "mimetype": "text/x-python",
   "name": "python",
   "nbconvert_exporter": "python",
   "pygments_lexer": "ipython3",
   "version": "3.6.4"
  }
 },
 "nbformat": 4,
 "nbformat_minor": 2
}
